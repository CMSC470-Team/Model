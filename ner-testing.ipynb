{
 "cells": [
  {
   "cell_type": "code",
   "execution_count": 42,
   "metadata": {},
   "outputs": [],
   "source": [
    "import nltk\n",
    "import numpy\n",
    "from nltk import word_tokenize,pos_tag\n",
    "from collections import defaultdict\n",
    "\n",
    "# nltk.download('punkt')\n",
    "# nltk.download('averaged_perceptron_tagger')\n",
    "# nltk.download('maxent_ne_chunker')\n",
    "# nltk.download('words')"
   ]
  },
  {
   "cell_type": "code",
   "execution_count": 18,
   "metadata": {},
   "outputs": [],
   "source": [
    "text = \"NASA awarded Elon Musk’s SpaceX a $2.9 billion contract to build the lunar lander.\"\n",
    "tokens = word_tokenize(text)\n",
    "tag=pos_tag(tokens)\n",
    "ne_tree = nltk.ne_chunk(tag)\n"
   ]
  },
  {
   "cell_type": "code",
   "execution_count": 46,
   "metadata": {},
   "outputs": [
    {
     "name": "stdout",
     "output_type": "stream",
     "text": [
      "ORGANIZATION ['NASA', 'SpaceX']\n",
      "PERSON ['Elon Musk']\n"
     ]
    }
   ],
   "source": [
    "text = \"NASA awarded Elon Musk’s SpaceX a $2.9 billion contract to build the lunar lander.\"\n",
    "def get_ner(text: str):\n",
    "    d = defaultdict(lambda: [])\n",
    "    for sent in nltk.sent_tokenize(text):\n",
    "        for chunk in nltk.ne_chunk(nltk.pos_tag(nltk.word_tokenize(sent))):\n",
    "            if hasattr(chunk, 'label'):\n",
    "                label = chunk.label()\n",
    "                in_txt_names = \" \".join([c[0] for c in chunk])\n",
    "                d[label].append(in_txt_names)\n",
    "    return d\n",
    "for k,v in get_ner(text).items():\n",
    "    print(k,v)"
   ]
  },
  {
   "cell_type": "code",
   "execution_count": 34,
   "metadata": {},
   "outputs": [
    {
     "data": {
      "text/plain": [
       "[Tree('ORGANIZATION', [('NASA', 'NNP')]),\n",
       " ('awarded', 'VBD'),\n",
       " Tree('PERSON', [('Elon', 'NNP'), ('Musk', 'NNP')]),\n",
       " ('’', 'NNP'),\n",
       " ('s', 'VBD'),\n",
       " Tree('ORGANIZATION', [('SpaceX', 'NNP')]),\n",
       " ('a', 'DT'),\n",
       " ('$', '$'),\n",
       " ('2.9', 'CD'),\n",
       " ('billion', 'CD'),\n",
       " ('contract', 'NN'),\n",
       " ('to', 'TO'),\n",
       " ('build', 'VB'),\n",
       " ('the', 'DT'),\n",
       " ('lunar', 'NN'),\n",
       " ('lander', 'NN'),\n",
       " ('.', '.')]"
      ]
     },
     "execution_count": 34,
     "metadata": {},
     "output_type": "execute_result"
    }
   ],
   "source": [
    "list(ne_tree)"
   ]
  },
  {
   "cell_type": "code",
   "execution_count": 1,
   "metadata": {},
   "outputs": [],
   "source": [
    "# SPACY SUCKSSSSSSSSSSSSSSSSSSSSSSSSSSSSSSSSSSS \n",
    "# DONT USE BLEHHHH\n",
    "\n",
    "import spacy\n",
    "from spacy import displacy\n",
    "from collections import Counter\n",
    "import en_core_web_sm\n",
    "nlp = en_core_web_sm.load()"
   ]
  },
  {
   "cell_type": "code",
   "execution_count": 14,
   "metadata": {},
   "outputs": [
    {
     "name": "stdout",
     "output_type": "stream",
     "text": [
      "[('NASA', 'ORG'), ('$2.9 billion', 'MONEY')]\n"
     ]
    }
   ],
   "source": [
    "doc = nlp(\"NASA awarded Elon Musk’s SpaceX a $2.9 billion contract to build the lunar lander\")\n",
    "print([(X.text, X.label_) for X in doc.ents])"
   ]
  },
  {
   "cell_type": "code",
   "execution_count": null,
   "metadata": {},
   "outputs": [],
   "source": []
  }
 ],
 "metadata": {
  "interpreter": {
   "hash": "2a6ccdc66411798ffed63a7b4072ec39615809906cbea012941404bf403d6a68"
  },
  "kernelspec": {
   "display_name": "Python 3.6.13 64-bit ('CMSC470': conda)",
   "language": "python",
   "name": "python3"
  },
  "language_info": {
   "codemirror_mode": {
    "name": "ipython",
    "version": 3
   },
   "file_extension": ".py",
   "mimetype": "text/x-python",
   "name": "python",
   "nbconvert_exporter": "python",
   "pygments_lexer": "ipython3",
   "version": "3.8.12"
  },
  "orig_nbformat": 4
 },
 "nbformat": 4,
 "nbformat_minor": 2
}
